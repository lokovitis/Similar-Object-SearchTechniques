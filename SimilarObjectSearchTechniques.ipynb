{
 "cells": [
  {
   "cell_type": "code",
   "execution_count": null,
   "metadata": {},
   "outputs": [],
   "source": []
  },
  {
   "cell_type": "code",
   "execution_count": 3,
   "metadata": {},
   "outputs": [],
   "source": [
    "import numpy as np\n",
    "import random\n",
    "import sys\n",
    "import matplotlib.pyplot as plt\n",
    "import import_ipynb\n",
    "from operator import itemgetter, attrgetter\n",
    "from randomPermutation import create_random_permutation\n",
    "from universalHashFunctions import create_random_hash_function\n",
    "\n",
    "\n",
    "data = np.genfromtxt('ratings_100users.csv', delimiter=',', names=True)\n",
    "\n",
    "userList = {}\n",
    "movieMap = {}\n",
    "movieList = {}\n",
    "\n",
    "i = 0\n",
    "\n",
    "for index, values in np.ndenumerate(data):\n",
    "    \n",
    "    if values[0] not in userList.keys():\n",
    "        userList[int(values[0])] = []\n",
    "    userList[values[0]].append(int(values[1]))\n",
    "    \n",
    "    if values[1] not in movieMap.values():\n",
    "        movieMap[i] = int(values[1])\n",
    "        i += 1 \n",
    "        \n",
    "    if values[1] not in movieList.keys():\n",
    "        movieList[int(values[1])] = []\n",
    "    \n",
    "    movieList[int(values[1])].append(int(values[0]))\n",
    "    \n",
    "inv_map = {v: k for k, v in movieMap.items()}      #Inverse MovieMap\n",
    "inv_map = sorted(inv_map.keys())\n"
   ]
  },
  {
   "cell_type": "markdown",
   "metadata": {},
   "source": [
    "# MinHash algorithm "
   ]
  },
  {
   "cell_type": "code",
   "execution_count": 4,
   "metadata": {},
   "outputs": [],
   "source": [
    "def minHash (n):\n",
    "    \n",
    "    sig = []\n",
    "    permutation = []\n",
    "    for i in range(n): \n",
    "        permutation.append(create_random_permutation(len(userList)))  # random user's permutations  \n",
    "    \n",
    "    for i in range (n):\n",
    "        tempArray = []\n",
    "        for col in movieMap:\n",
    "            tempArray.append(sys.maxsize)\n",
    "        sig.append(tempArray)\n",
    "        \n",
    "    #SIN nxN\n",
    "    \n",
    "    for col in movieMap: \n",
    "        for row in userList:  \n",
    "            for movie in userList[row]: \n",
    "                if (movie == inv_map[col]):   #check with movieId order\n",
    "                    for i in range (n):\n",
    "                        if permutation[i][row-1] < sig[i][col]:\n",
    "                            sig[i][col] = permutation[i][row-1]\n",
    "           \n",
    "    return sig "
   ]
  },
  {
   "cell_type": "markdown",
   "metadata": {},
   "source": [
    "# Locality-sensitive hashing creating candidates pairs of probably similar objects "
   ]
  },
  {
   "cell_type": "code",
   "execution_count": 11,
   "metadata": {},
   "outputs": [],
   "source": [
    "def LSH(sig,n,bands,rows):\n",
    "    \n",
    "    #SIG nxK\n",
    "    myHashFunction = create_random_hash_function(1000)\n",
    "      \n",
    "    similarCouples = []\n",
    "    \n",
    "    bandSize = int(n / bands)\n",
    "\n",
    "    \n",
    "    for b in range(0,n,bandSize):\n",
    "        bin = {}\n",
    "        for movieId in range(20):   #Impement for first 20 movies sorted with movieId\n",
    "            mylist = []\n",
    "            movie = inv_map[movieId]\n",
    "            for r  in  range (b,b+rows):\n",
    "                if sig[r][movie] < 10 :  #if number has 1 digit form \n",
    "                    mylist.append(\"0\"+str(sig[r][movieId]))\n",
    "                else:\n",
    "                    mylist.append(str(sig[r][movieId]))\n",
    "                \n",
    "            subSigNumber = int(''.join(map(str,mylist)))\n",
    "            hashingResult = int(myHashFunction(subSigNumber))\n",
    "            \n",
    "            if hashingResult not in bin.keys():\n",
    "                bin[hashingResult] = []\n",
    "            else:\n",
    "                for i in bin[hashingResult]: \n",
    "                    tempArray = []\n",
    "                    tempArray.append(i)\n",
    "                    tempArray.append(movie)\n",
    "                    similarCouples.append(tempArray)\n",
    "            bin[hashingResult].append(movie)  \n",
    "            \n",
    "    return similarCouples"
   ]
  },
  {
   "cell_type": "markdown",
   "metadata": {},
   "source": [
    "# SignatureSimilarity based on sig matrix was produced minHash algorithm"
   ]
  },
  {
   "cell_type": "code",
   "execution_count": 12,
   "metadata": {},
   "outputs": [],
   "source": [
    "def signatureSimilarity(movieId1,movieId2,n):\n",
    "    \n",
    "    \n",
    "    for value in range(len(inv_map)):  \n",
    "        if inv_map[value] == movieId1 :\n",
    "            movieId1 = value\n",
    "        if inv_map[value] == movieId2 :\n",
    "            movieId2 = value\n",
    "            \n",
    "    similarities = 0\n",
    "    for i in range(n):\n",
    "        if (sig[i][movieId1]  == sig[i][movieId2] ):\n",
    "            similarities += 1   \n",
    "        \n",
    "    return similarities / n\n",
    "\n",
    "\n",
    "\n",
    "\n"
   ]
  },
  {
   "cell_type": "markdown",
   "metadata": {},
   "source": [
    "# Jaccard Similarity used for Ground Truth "
   ]
  },
  {
   "cell_type": "code",
   "execution_count": 13,
   "metadata": {},
   "outputs": [],
   "source": [
    "def jaccardSimilarity(movieId1,movieId2):\n",
    "    s1 = set( movieList[movieId1] )\n",
    "    s2 = set( movieList[movieId2] )\n",
    "    JACCARD = ( len(s1.intersection(s2)) / len(s1.union(s2)) )\n",
    "    return (JACCARD)\n"
   ]
  },
  {
   "cell_type": "markdown",
   "metadata": {},
   "source": [
    "# Experiment using first 20 movies using minHash algorithm \n"
   ]
  },
  {
   "cell_type": "code",
   "execution_count": 14,
   "metadata": {
    "scrolled": true
   },
   "outputs": [
    {
     "name": "stdout",
     "output_type": "stream",
     "text": [
      "FP =  12\n",
      "FN =  13\n",
      "PRECISION =  0.5555555555555556\n",
      "RECALL =  0.5357142857142857\n",
      "F1 =  0.5454545454545454\n",
      "\n"
     ]
    },
    {
     "data": {
      "image/png": "[encoded data removed]",
      "text/plain": [
       "<Figure size 432x288 with 1 Axes>"
      ]
     },
     "metadata": {
      "needs_background": "light"
     },
     "output_type": "display_data"
    },
    {
     "name": "stdout",
     "output_type": "stream",
     "text": [
      "FP =  14\n",
      "FN =  10\n",
      "PRECISION =  0.5625\n",
      "RECALL =  0.6428571428571429\n",
      "F1 =  0.6000000000000001\n",
      "\n"
     ]
    },
    {
     "data": {
      "image/png": "[encoded data removed]",
      "text/plain": [
       "<Figure size 432x288 with 1 Axes>"
      ]
     },
     "metadata": {
      "needs_background": "light"
     },
     "output_type": "display_data"
    },
    {
     "name": "stdout",
     "output_type": "stream",
     "text": [
      "FP =  20\n",
      "FN =  6\n",
      "PRECISION =  0.5238095238095238\n",
      "RECALL =  0.7857142857142857\n",
      "F1 =  0.6285714285714286\n",
      "\n"
     ]
    },
    {
     "data": {
      "image/png": "[encoded data removed]",
      "text/plain": [
       "<Figure size 432x288 with 1 Axes>"
      ]
     },
     "metadata": {
      "needs_background": "light"
     },
     "output_type": "display_data"
    },
    {
     "name": "stdout",
     "output_type": "stream",
     "text": [
      "FP =  21\n",
      "FN =  6\n",
      "PRECISION =  0.5116279069767442\n",
      "RECALL =  0.7857142857142857\n",
      "F1 =  0.619718309859155\n",
      "\n"
     ]
    },
    {
     "data": {
      "image/png": "[encoded data removed]",
      "text/plain": [
       "<Figure size 432x288 with 1 Axes>"
      ]
     },
     "metadata": {
      "needs_background": "light"
     },
     "output_type": "display_data"
    },
    {
     "name": "stdout",
     "output_type": "stream",
     "text": [
      "FP =  10\n",
      "FN =  8\n",
      "PRECISION =  0.6666666666666666\n",
      "RECALL =  0.7142857142857143\n",
      "F1 =  0.689655172413793\n",
      "\n"
     ]
    },
    {
     "data": {
      "image/png": "[encoded data removed]",
      "text/plain": [
       "<Figure size 432x288 with 1 Axes>"
      ]
     },
     "metadata": {
      "needs_background": "light"
     },
     "output_type": "display_data"
    },
    {
     "name": "stdout",
     "output_type": "stream",
     "text": [
      "FP =  11\n",
      "FN =  7\n",
      "PRECISION =  0.65625\n",
      "RECALL =  0.75\n",
      "F1 =  0.7\n",
      "\n"
     ]
    },
    {
     "data": {
      "image/png": "[encoded data removed]",
      "text/plain": [
       "<Figure size 432x288 with 1 Axes>"
      ]
     },
     "metadata": {
      "needs_background": "light"
     },
     "output_type": "display_data"
    },
    {
     "name": "stdout",
     "output_type": "stream",
     "text": [
      "FP =  16\n",
      "FN =  5\n",
      "PRECISION =  0.5897435897435898\n",
      "RECALL =  0.8214285714285714\n",
      "F1 =  0.6865671641791046\n",
      "\n"
     ]
    },
    {
     "data": {
      "image/png": "[encoded data removed]",
      "text/plain": [
       "<Figure size 432x288 with 1 Axes>"
      ]
     },
     "metadata": {
      "needs_background": "light"
     },
     "output_type": "display_data"
    },
    {
     "name": "stdout",
     "output_type": "stream",
     "text": [
      "FP =  17\n",
      "FN =  5\n",
      "PRECISION =  0.575\n",
      "RECALL =  0.8214285714285714\n",
      "F1 =  0.676470588235294\n",
      "\n"
     ]
    },
    {
     "data": {
      "image/png": "[encoded data removed]",
      "text/plain": [
       "<Figure size 432x288 with 1 Axes>"
      ]
     },
     "metadata": {
      "needs_background": "light"
     },
     "output_type": "display_data"
    },
    {
     "data": {
      "text/plain": [
       "<Figure size 432x288 with 0 Axes>"
      ]
     },
     "metadata": {},
     "output_type": "display_data"
    }
   ],
   "source": [
    "s = 0.25 #THRESHOLD\n",
    "\n",
    "totalPairsSize = 20 # 20 for file ratings_100users.csv  OR 100 for file ratings.csv \n",
    "\n",
    "sig = minHash(40)\n",
    "\n",
    "sig = np.asarray(sig)\n",
    "np.savetxt(\"SIG.csv\", sig,fmt='%i', delimiter=\",\")\n",
    "\n",
    "\n",
    "\n",
    "relativeElements = 0\n",
    "notCalculatedRelativeElements = True\n",
    "for n in range(5,45,5):\n",
    "   \n",
    "    falsePositives = 0\n",
    "    falseNegatives = 0\n",
    "    \n",
    "    for i in range (totalPairsSize):\n",
    "        for j in range (1,totalPairsSize-i):\n",
    "            sigSim = signatureSimilarity(inv_map[i],inv_map[j+i], n)\n",
    "            jacSim = jaccardSimilarity(inv_map[i],inv_map[j+i])\n",
    "            \n",
    "            if (sigSim >= s and jacSim < s):\n",
    "                falsePositives += 1\n",
    "            if (sigSim < s and jacSim >= s):\n",
    "                falseNegatives += 1\n",
    "            if (notCalculatedRelativeElements): \n",
    "                \n",
    "                if(jaccardSimilarity(inv_map[i],inv_map[j+i]) >= s):\n",
    "                    relativeElements += 1\n",
    "    \n",
    "    notCalculatedRelativeElements = False\n",
    "      \n",
    "    truePositives = relativeElements - falseNegatives              \n",
    "    \n",
    "    \n",
    "    PRECISION = truePositives / ( truePositives + falsePositives )\n",
    "\n",
    "    RECALL = truePositives / ( truePositives + falseNegatives )\n",
    "\n",
    "    F1 = 2 * RECALL * PRECISION / ( RECALL + PRECISION )\n",
    "    \n",
    "    \n",
    "    print(\"FP = \", falsePositives)\n",
    "    print(\"FN = \", falseNegatives)\n",
    "    print(\"PRECISION = \", PRECISION)\n",
    "    print(\"RECALL = \", RECALL)\n",
    "    print(\"F1 = \", F1)\n",
    "    print()\n",
    "    \n",
    "  \n",
    "    # x-coordinates of left sides of bars  \n",
    "    left = [1, 2, 3] \n",
    "    \n",
    "    \n",
    "    # values of results \n",
    "    values = [PRECISION,RECALL,F1] \n",
    "\n",
    "    # labels for bars \n",
    "    tick_label = ['PRECISION', 'RECALL', 'F1'] \n",
    "\n",
    "    # plotting a bar chart \n",
    "    plt.bar(left, values, tick_label = tick_label, \n",
    "            width = 0.8, color = ['cyan', 'magenta','yellow',]) \n",
    "\n",
    "    \n",
    "    # plot title \n",
    "    plt.title(\"n = \" + str(n)) \n",
    "\n",
    "    # function to show the plot \n",
    "    plt.show() \n",
    "    \n",
    "    # Save plot \n",
    "    plt.savefig('n =' + str(n) + '.png')\n",
    "\n",
    "    "
   ]
  },
  {
   "cell_type": "markdown",
   "metadata": {},
   "source": [
    "# # Experiment using first 20 movies using  Locality-sensitive hashing technique "
   ]
  },
  {
   "cell_type": "code",
   "execution_count": 15,
   "metadata": {
    "scrolled": true
   },
   "outputs": [
    {
     "name": "stdout",
     "output_type": "stream",
     "text": [
      "FP =  10\n",
      "FN =  0\n",
      "( b =  20 , r =  2 )\n",
      "PRECISION =  0.7368421052631579\n",
      "RECALL =  1.0\n",
      "F1 =  0.8484848484848484\n",
      "\n"
     ]
    },
    {
     "data": {
      "image/png": "[encoded data removed]",
      "text/plain": [
       "<Figure size 432x288 with 1 Axes>"
      ]
     },
     "metadata": {
      "needs_background": "light"
     },
     "output_type": "display_data"
    },
    {
     "name": "stdout",
     "output_type": "stream",
     "text": [
      "FP =  7\n",
      "FN =  0\n",
      "( b =  10 , r =  4 )\n",
      "PRECISION =  0.8\n",
      "RECALL =  1.0\n",
      "F1 =  0.888888888888889\n",
      "\n"
     ]
    },
    {
     "data": {
      "image/png": "[encoded data removed]",
      "text/plain": [
       "<Figure size 432x288 with 1 Axes>"
      ]
     },
     "metadata": {
      "needs_background": "light"
     },
     "output_type": "display_data"
    },
    {
     "name": "stdout",
     "output_type": "stream",
     "text": [
      "FP =  9\n",
      "FN =  2\n",
      "( b =  8 , r =  5 )\n",
      "PRECISION =  0.7428571428571429\n",
      "RECALL =  0.9285714285714286\n",
      "F1 =  0.8253968253968255\n",
      "\n"
     ]
    },
    {
     "data": {
      "image/png": "[encoded data removed]",
      "text/plain": [
       "<Figure size 432x288 with 1 Axes>"
      ]
     },
     "metadata": {
      "needs_background": "light"
     },
     "output_type": "display_data"
    },
    {
     "name": "stdout",
     "output_type": "stream",
     "text": [
      "FP =  14\n",
      "FN =  1\n",
      "( b =  5 , r =  8 )\n",
      "PRECISION =  0.6585365853658537\n",
      "RECALL =  0.9642857142857143\n",
      "F1 =  0.782608695652174\n",
      "\n"
     ]
    },
    {
     "data": {
      "image/png": "[encoded data removed]",
      "text/plain": [
       "<Figure size 432x288 with 1 Axes>"
      ]
     },
     "metadata": {
      "needs_background": "light"
     },
     "output_type": "display_data"
    },
    {
     "name": "stdout",
     "output_type": "stream",
     "text": [
      "FP =  4\n",
      "FN =  0\n",
      "( b =  4 , r =  10 )\n",
      "PRECISION =  0.875\n",
      "RECALL =  1.0\n",
      "F1 =  0.9333333333333333\n",
      "\n"
     ]
    },
    {
     "data": {
      "image/png": "[encoded data removed]",
      "text/plain": [
       "<Figure size 432x288 with 1 Axes>"
      ]
     },
     "metadata": {
      "needs_background": "light"
     },
     "output_type": "display_data"
    },
    {
     "name": "stdout",
     "output_type": "stream",
     "text": [
      "FP =  3\n",
      "FN =  0\n",
      "( b =  2 , r =  20 )\n",
      "PRECISION =  0.9032258064516129\n",
      "RECALL =  1.0\n",
      "F1 =  0.9491525423728813\n",
      "\n"
     ]
    },
    {
     "data": {
      "image/png": "[encoded data removed]",
      "text/plain": [
       "<Figure size 432x288 with 1 Axes>"
      ]
     },
     "metadata": {
      "needs_background": "light"
     },
     "output_type": "display_data"
    },
    {
     "data": {
      "text/plain": [
       "<Figure size 432x288 with 0 Axes>"
      ]
     },
     "metadata": {},
     "output_type": "display_data"
    }
   ],
   "source": [
    "s = 0.25\n",
    "totalPairsSize = 20\n",
    "n = 40 # n = b*r\n",
    "#TODO SIG.CSV\n",
    "\n",
    "\n",
    "testListNumbers = [2,4,5,8,10,20]\n",
    "\n",
    "for r in testListNumbers:\n",
    "    b = int(n/r)\n",
    "    falsePositives = 0\n",
    "    falseNegatives = 0\n",
    "    \n",
    "    similarCouples = LSH(sig,n,b,r)\n",
    "    \n",
    "    for i in similarCouples:\n",
    "            \n",
    "            sigSim = signatureSimilarity(inv_map[i[0]],inv_map[i[1]], n)\n",
    "            jacSim = jaccardSimilarity(inv_map[i[0]],inv_map[i[1]])\n",
    "            \n",
    "            if (sigSim < s and jacSim >= s):\n",
    "                falseNegatives += 1\n",
    "            if (sigSim >= s and jacSim < s):\n",
    "                falsePositives += 1\n",
    "            \n",
    "    truePositives = relativeElements - falseNegatives              \n",
    "\n",
    "    PRECISION = truePositives / ( truePositives + falsePositives )\n",
    "\n",
    "    RECALL = truePositives / ( truePositives + falseNegatives )\n",
    "\n",
    "    F1 = 2 * RECALL * PRECISION / ( RECALL + PRECISION )\n",
    "    \n",
    "    print(\"FP = \", falsePositives)\n",
    "    print(\"FN = \", falseNegatives)\n",
    "    print(\"( b = \",b,\", r = \", r ,\")\")\n",
    "    print(\"PRECISION = \", PRECISION)\n",
    "    print(\"RECALL = \", RECALL)\n",
    "    print(\"F1 = \", F1)\n",
    "    print()\n",
    "    \n",
    "    \n",
    "    # x-coordinates of left sides of bars  \n",
    "    left = [1, 2, 3, ] \n",
    "    \n",
    "    \n",
    "    # values of results \n",
    "    values = [PRECISION,RECALL,F1] \n",
    "\n",
    "    # labels for bars \n",
    "    tick_label = ['PRECISION', 'RECALL', 'F1'] \n",
    "\n",
    "    # plotting a bar chart \n",
    "    plt.bar(left, values, tick_label = tick_label, \n",
    "            width = 0.8, color = ['cyan','magenta','yellow']) \n",
    "\n",
    "    \n",
    "    # plot title \n",
    "    title = \"( r = \"+ str(r) + \", b = \"+ str(b) + \")\"\n",
    "    \n",
    "    plt.title(title) \n",
    "\n",
    "    # function to show the plot \n",
    "    plt.show() \n",
    "    \n",
    "    # Save plot \n",
    "    plt.savefig( title + '.png')\n",
    "    \n",
    "    "
   ]
  },
  {
   "cell_type": "code",
   "execution_count": null,
   "metadata": {},
   "outputs": [],
   "source": []
  }
 ],
 "metadata": {
  "kernelspec": {
   "display_name": "Python 3",
   "language": "python",
   "name": "python3"
  },
  "language_info": {
   "codemirror_mode": {
    "name": "ipython",
    "version": 3
   },
   "file_extension": ".py",
   "mimetype": "text/x-python",
   "name": "python",
   "nbconvert_exporter": "python",
   "pygments_lexer": "ipython3",
   "version": "3.8.1"
  }
 },
 "nbformat": 4,
 "nbformat_minor": 4
}
